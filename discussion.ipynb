{
 "cells": [
  {
   "cell_type": "code",
   "execution_count": 1,
   "metadata": {},
   "outputs": [],
   "source": [
    "import pandas as pd\n",
    "from pprint import pprint\n",
    "import numpy as np\n",
    "import json\n",
    "from tqdm import tqdm\n",
    "import matplotlib.pyplot as plt\n",
    "import seaborn as sn\n",
    "import matplotlib.ticker as mticker\n",
    "\n",
    "# Load dataset\n",
    "data = pd.read_json(\"dataset.35past.Linux10k.json\")"
   ]
  },
  {
   "cell_type": "code",
   "execution_count": 5,
   "metadata": {},
   "outputs": [
    {
     "name": "stdout",
     "output_type": "stream",
     "text": [
      "Requirement already satisfied: seaborn==0.11 in /usr/local/lib/python3.9/site-packages (0.11.0)\n",
      "Requirement already satisfied: scipy>=1.0 in /usr/local/lib/python3.9/site-packages (from seaborn==0.11) (1.7.0)\n",
      "Requirement already satisfied: pandas>=0.23 in /usr/local/lib/python3.9/site-packages (from seaborn==0.11) (1.0.5)\n",
      "Requirement already satisfied: numpy>=1.15 in /usr/local/lib/python3.9/site-packages (from seaborn==0.11) (1.21.0)\n",
      "Requirement already satisfied: matplotlib>=2.2 in /usr/local/lib/python3.9/site-packages (from seaborn==0.11) (3.4.2)\n",
      "Requirement already satisfied: pytz>=2017.2 in /usr/local/lib/python3.9/site-packages/pytz-2020.4-py3.9.egg (from pandas>=0.23->seaborn==0.11) (2020.4)\n",
      "Requirement already satisfied: python-dateutil>=2.6.1 in /usr/local/lib/python3.9/site-packages (from pandas>=0.23->seaborn==0.11) (2.8.1)\n",
      "Requirement already satisfied: pyparsing>=2.2.1 in /usr/local/lib/python3.9/site-packages (from matplotlib>=2.2->seaborn==0.11) (2.4.7)\n",
      "Requirement already satisfied: cycler>=0.10 in /usr/local/lib/python3.9/site-packages (from matplotlib>=2.2->seaborn==0.11) (0.10.0)\n",
      "Requirement already satisfied: pillow>=6.2.0 in /usr/local/lib/python3.9/site-packages (from matplotlib>=2.2->seaborn==0.11) (8.2.0)\n",
      "Requirement already satisfied: kiwisolver>=1.0.1 in /usr/local/lib/python3.9/site-packages (from matplotlib>=2.2->seaborn==0.11) (1.3.1)\n",
      "Requirement already satisfied: six>=1.5 in /usr/local/lib/python3.9/site-packages/six-1.15.0-py3.9.egg (from python-dateutil>=2.6.1->pandas>=0.23->seaborn==0.11) (1.15.0)\n",
      "0.10.1\n"
     ]
    }
   ],
   "source": [
    "# KDE\n",
    "\n",
    "# Requires seaborn 0.11\n",
    "print(sn.__version__)\n",
    "\n",
    "# Dropping failures, keeping only one test per build\n",
    "tests = data.drop_duplicates(subset=['buildId', 'testId'])\n",
    "\n",
    "tests.rename(columns={'flakeRate':'Flake rate'}, inplace=True)\n",
    "tests.label = tests.label.replace(0, \"Flaky tests\")\n",
    "tests.label = tests.label.replace(1, \"Fault-revealing tests\")\n",
    "\n",
    "p = sn.kdeplot(data=tests, x=\"Flake rate\", hue=\"label\", palette=['red',\"orange\"], common_norm=False, shade=True, fill=True)\n",
    "lss = [':', '--']\n",
    "\n",
    "handles = p.legend_.legendHandles[::-1]\n",
    "\n",
    "for line, ls, handle in zip(p.collections, lss, handles):\n",
    "    line.set_linestyle(ls)\n",
    "    handle.set_ls(ls)\n",
    "plt.show()"
   ]
  },
  {
   "cell_type": "code",
   "execution_count": 6,
   "metadata": {},
   "outputs": [
    {
     "data": {
      "text/html": [
       "<div>\n",
       "<style scoped>\n",
       "    .dataframe tbody tr th:only-of-type {\n",
       "        vertical-align: middle;\n",
       "    }\n",
       "\n",
       "    .dataframe tbody tr th {\n",
       "        vertical-align: top;\n",
       "    }\n",
       "\n",
       "    .dataframe thead th {\n",
       "        text-align: right;\n",
       "    }\n",
       "</style>\n",
       "<table border=\"1\" class=\"dataframe\">\n",
       "  <thead>\n",
       "    <tr style=\"text-align: right;\">\n",
       "      <th></th>\n",
       "      <th>buildId</th>\n",
       "      <th>Number of tests</th>\n",
       "    </tr>\n",
       "  </thead>\n",
       "  <tbody>\n",
       "    <tr>\n",
       "      <th>count</th>\n",
       "      <td>9926.000000</td>\n",
       "      <td>9926.000000</td>\n",
       "    </tr>\n",
       "    <tr>\n",
       "      <th>mean</th>\n",
       "      <td>118042.852408</td>\n",
       "      <td>178.275035</td>\n",
       "    </tr>\n",
       "    <tr>\n",
       "      <th>std</th>\n",
       "      <td>2870.147106</td>\n",
       "      <td>41.678340</td>\n",
       "    </tr>\n",
       "    <tr>\n",
       "      <th>min</th>\n",
       "      <td>113075.000000</td>\n",
       "      <td>2.000000</td>\n",
       "    </tr>\n",
       "    <tr>\n",
       "      <th>25%</th>\n",
       "      <td>115558.250000</td>\n",
       "      <td>152.000000</td>\n",
       "    </tr>\n",
       "    <tr>\n",
       "      <th>50%</th>\n",
       "      <td>118041.500000</td>\n",
       "      <td>171.000000</td>\n",
       "    </tr>\n",
       "    <tr>\n",
       "      <th>75%</th>\n",
       "      <td>120523.750000</td>\n",
       "      <td>200.000000</td>\n",
       "    </tr>\n",
       "    <tr>\n",
       "      <th>max</th>\n",
       "      <td>123038.000000</td>\n",
       "      <td>568.000000</td>\n",
       "    </tr>\n",
       "  </tbody>\n",
       "</table>\n",
       "</div>"
      ],
      "text/plain": [
       "             buildId  Number of tests\n",
       "count    9926.000000      9926.000000\n",
       "mean   118042.852408       178.275035\n",
       "std      2870.147106        41.678340\n",
       "min    113075.000000         2.000000\n",
       "25%    115558.250000       152.000000\n",
       "50%    118041.500000       171.000000\n",
       "75%    120523.750000       200.000000\n",
       "max    123038.000000       568.000000"
      ]
     },
     "execution_count": 6,
     "metadata": {},
     "output_type": "execute_result"
    }
   ],
   "source": [
    "count = tests.groupby(\"buildId\")[\"label\"].value_counts().unstack(fill_value=0).stack().rename('Number of tests').reset_index()\n",
    "count[\"label\"] = count[\"label\"].replace(0,\"Flaky\")\n",
    "count[\"label\"] = count[\"label\"].replace(1,\"Failing\")\n",
    "count[count[\"label\"] == \"Flaky\"].describe()"
   ]
  },
  {
   "cell_type": "code",
   "execution_count": 7,
   "metadata": {},
   "outputs": [
    {
     "name": "stdout",
     "output_type": "stream",
     "text": [
      "             buildId  Number of tests per build\n",
      "count    2415.000000                2415.000000\n",
      "mean   118576.089855                   2.705590\n",
      "std      2791.800652                  14.862079\n",
      "min    113075.000000                   1.000000\n",
      "25%    116465.500000                   1.000000\n",
      "50%    118629.000000                   1.000000\n",
      "75%    121011.000000                   2.000000\n",
      "max    123035.000000                 579.000000\n",
      "             buildId  Number of tests per build\n",
      "count    9926.000000                9926.000000\n",
      "mean   118042.852408                 178.275035\n",
      "std      2870.147106                  41.678340\n",
      "min    113075.000000                   2.000000\n",
      "25%    115558.250000                 152.000000\n",
      "50%    118041.500000                 171.000000\n",
      "75%    120523.750000                 200.000000\n",
      "max    123038.000000                 568.000000\n"
     ]
    }
   ],
   "source": [
    "# Create dataframe with count\n",
    "pd.set_option('display.max_rows', 2500)\n",
    "tests = data.drop_duplicates(subset=['buildId', 'testId'])\n",
    "flaky = tests[tests[\"testStatus\"] == \"FLAKY\"]\n",
    "failing = tests[tests[\"testStatus\"] == \"UNEXPECTED\"]\n",
    "countFlaky = flaky.groupby(\"buildId\")[\"label\"].value_counts().rename('Number of tests per build').reset_index()\n",
    "countFailing = failing.groupby(\"buildId\")[\"label\"].value_counts().rename('Number of tests per build').reset_index()\n",
    "\n",
    "# Rename label\n",
    "countFlaky[\"label\"] = countFlaky[\"label\"].replace(0,\"Flaky\")\n",
    "countFailing[\"label\"] = countFailing[\"label\"].replace(1,\"Fault-revealing\")\n",
    "\n",
    "# Print\n",
    "print(countFailing.describe())\n",
    "print(countFlaky.describe())\n",
    "\n",
    "# countFlaky = count[count[\"label\"] == \"Flaky\"]\n",
    "# countFailing = count[count[\"label\"] == \"Failing\"]\n",
    "# print(countFailing.head(n=1000))\n",
    "# print(countFlaky.head(n=100))"
   ]
  },
  {
   "cell_type": "code",
   "execution_count": 8,
   "metadata": {},
   "outputs": [
    {
     "data": {
      "image/png": "[encoded data removed]",
      "text/plain": [
       "<Figure size 432x288 with 2 Axes>"
      ]
     },
     "metadata": {
      "needs_background": "light"
     },
     "output_type": "display_data"
    }
   ],
   "source": [
    "# plt.figure(figsize=(15,4))\n",
    "fig, ax = plt.subplots(1, 2)\n",
    "fig.suptitle('Box plot tests per build')\n",
    "\n",
    "sn.boxplot(data=countFlaky, x=\"label\", y=\"Number of tests per build\", width=0.4, palette=[\"#f1c40f\"], ax=ax[0])\n",
    "sn.boxplot(data=countFailing, x=\"label\", y=\"Number of tests per build\", width=0.4, palette=[\"#d63031\"], ax=ax[1])\n",
    "ax[0].set(xlabel=None)\n",
    "ax[1].set(xlabel=None)\n",
    "ax[1].set(ylabel=None)\n",
    "\n",
    "# Show plot\n",
    "plt.ylim(0, 30)\n",
    "plt.savefig('sample.png', dpi=150, bbox_inches='tight')\n",
    "plt.show()"
   ]
  },
  {
   "cell_type": "code",
   "execution_count": null,
   "metadata": {},
   "outputs": [],
   "source": []
  }
 ],
 "metadata": {
  "kernelspec": {
   "display_name": "Python 3",
   "language": "python",
   "name": "python3"
  },
  "language_info": {
   "codemirror_mode": {
    "name": "ipython",
    "version": 3
   },
   "file_extension": ".py",
   "mimetype": "text/x-python",
   "name": "python",
   "nbconvert_exporter": "python",
   "pygments_lexer": "ipython3",
   "version": "3.8.3"
  }
 },
 "nbformat": 4,
 "nbformat_minor": 4
}
